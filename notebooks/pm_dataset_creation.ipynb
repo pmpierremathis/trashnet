{
  "nbformat": 4,
  "nbformat_minor": 0,
  "metadata": {
    "colab": {
      "name": "pm_dataset_creation.ipynb",
      "provenance": [],
      "collapsed_sections": []
    },
    "kernelspec": {
      "name": "python3",
      "display_name": "Python 3"
    },
    "language_info": {
      "name": "python"
    }
  },
  "cells": [
    {
      "cell_type": "code",
      "metadata": {
        "id": "ewiF8vNC9wzs"
      },
      "source": [
        "import pandas as pd\n",
        "import numpy as np\n",
        "import os\n",
        "import shutil\n",
        "\n",
        "from google.colab import drive"
      ],
      "execution_count": null,
      "outputs": []
    },
    {
      "cell_type": "markdown",
      "metadata": {
        "id": "VSil0UQy-ryw"
      },
      "source": [
        "Defining source and output folders path"
      ]
    },
    {
      "cell_type": "code",
      "metadata": {
        "id": "QS48vmXy9_wo"
      },
      "source": [
        "source = '/content/gdrive/My Drive/trashnet/dataset_project/dataset_train'\n",
        "source_cardboard = '/content/gdrive/My Drive/trashnet/dataset_project/dataset_train/cardboard'\n",
        "source_glass = '/content/gdrive/My Drive/trashnet/dataset_project/dataset_train/glass'\n",
        "source_metal = '/content/gdrive/My Drive/trashnet/dataset_project/dataset_train/metal'\n",
        "source_paper = '/content/gdrive/My Drive/trashnet/dataset_project/dataset_train/paper'\n",
        "source_plastic = '/content/gdrive/My Drive/trashnet/dataset_project/dataset_train/plastic'\n",
        "source_trash = '/content/gdrive/My Drive/trashnet/dataset_project/dataset_train/trash'"
      ],
      "execution_count": null,
      "outputs": []
    },
    {
      "cell_type": "code",
      "metadata": {
        "id": "k6BuojVn-03T"
      },
      "source": [
        "dest_cardboard = '/content/gdrive/My Drive/trashnet/dataset_project/dataset_test/cardboard'\n",
        "dest_glass = '/content/gdrive/My Drive/trashnet/dataset_project/dataset_test/glass'\n",
        "dest_metal = '/content/gdrive/My Drive/trashnet/dataset_project/dataset_test/metal'\n",
        "dest_paper = '/content/gdrive/My Drive/trashnet/dataset_project/dataset_test/paper'\n",
        "dest_plastic = '/content/gdrive/My Drive/trashnet/dataset_project/dataset_test/plastic'\n",
        "dest_trash = '/content/gdrive/My Drive/trashnet/dataset_project/dataset_test/trash'"
      ],
      "execution_count": null,
      "outputs": []
    },
    {
      "cell_type": "markdown",
      "metadata": {
        "id": "8iTAt_0t_a26"
      },
      "source": [
        "Connecting Google Collab with Google Drive"
      ]
    },
    {
      "cell_type": "code",
      "metadata": {
        "colab": {
          "base_uri": "https://localhost:8080/"
        },
        "id": "cY7-Rs0c_dcP",
        "outputId": "52fe20ed-b2b5-43b5-ab50-8eab2c2cbcec"
      },
      "source": [
        "from google.colab import drive\n",
        "drive.mount('/content/gdrive')"
      ],
      "execution_count": null,
      "outputs": [
        {
          "output_type": "stream",
          "text": [
            "Mounted at /content/gdrive\n"
          ],
          "name": "stdout"
        }
      ]
    },
    {
      "cell_type": "markdown",
      "metadata": {
        "id": "HDOakyqhyMs0"
      },
      "source": [
        "Creating test datasets by moving 15% of train data"
      ]
    },
    {
      "cell_type": "code",
      "metadata": {
        "colab": {
          "base_uri": "https://localhost:8080/"
        },
        "id": "_RTvx-VzzAkL",
        "outputId": "492ff5be-726f-48b8-baa4-a949b573f3b9"
      },
      "source": [
        "files = os.listdir(source)\n",
        "print(files)"
      ],
      "execution_count": null,
      "outputs": [
        {
          "output_type": "stream",
          "text": [
            "['paper', 'metal', 'glass', 'cardboard', 'trash', 'plastic']\n"
          ],
          "name": "stdout"
        }
      ]
    },
    {
      "cell_type": "code",
      "metadata": {
        "id": "5jHMpd0Q9Wiv"
      },
      "source": [
        "source_list = [source_cardboard, source_glass, source_metal, source_paper, source_plastic, source_trash]\n",
        "dest_list = [dest_cardboard, dest_glass, dest_metal, dest_paper, dest_plastic, dest_trash]"
      ],
      "execution_count": 58,
      "outputs": []
    },
    {
      "cell_type": "code",
      "metadata": {
        "id": "xlLB3IAk-VCp"
      },
      "source": [
        "directory = []\n",
        "for _ in range(len(source_list)):\n",
        "  directory.append([source_list[_], dest_list[_]])"
      ],
      "execution_count": 61,
      "outputs": []
    },
    {
      "cell_type": "code",
      "metadata": {
        "colab": {
          "base_uri": "https://localhost:8080/"
        },
        "id": "zzaBdeA9-lkS",
        "outputId": "527b19a2-679d-41c7-f0dc-ada2b01c2edb"
      },
      "source": [
        "directory"
      ],
      "execution_count": 62,
      "outputs": [
        {
          "output_type": "execute_result",
          "data": {
            "text/plain": [
              "[['/content/gdrive/My Drive/trashnet/dataset_project/dataset_train/cardboard',\n",
              "  '/content/gdrive/My Drive/trashnet/dataset_project/dataset_test/cardboard'],\n",
              " ['/content/gdrive/My Drive/trashnet/dataset_project/dataset_train/glass',\n",
              "  '/content/gdrive/My Drive/trashnet/dataset_project/dataset_test/glass'],\n",
              " ['/content/gdrive/My Drive/trashnet/dataset_project/dataset_train/metal',\n",
              "  '/content/gdrive/My Drive/trashnet/dataset_project/dataset_test/metal'],\n",
              " ['/content/gdrive/My Drive/trashnet/dataset_project/dataset_train/paper',\n",
              "  '/content/gdrive/My Drive/trashnet/dataset_project/dataset_test/paper'],\n",
              " ['/content/gdrive/My Drive/trashnet/dataset_project/dataset_train/plastic',\n",
              "  '/content/gdrive/My Drive/trashnet/dataset_project/dataset_test/plastic'],\n",
              " ['/content/gdrive/My Drive/trashnet/dataset_project/dataset_train/trash',\n",
              "  '/content/gdrive/My Drive/trashnet/dataset_project/dataset_test/trash']]"
            ]
          },
          "metadata": {
            "tags": []
          },
          "execution_count": 62
        }
      ]
    },
    {
      "cell_type": "code",
      "metadata": {
        "id": "ua-tvQvBwtaK"
      },
      "source": [
        "for trashtype in directory:\n",
        "  for image in os.listdir(trashtype[0]):\n",
        "    if np.random.rand(1) < 0.15:\n",
        "      shutil.move(trashtype[0]+'/'+image, trashtype[1]+'/'+image)"
      ],
      "execution_count": 64,
      "outputs": []
    },
    {
      "cell_type": "code",
      "metadata": {
        "colab": {
          "base_uri": "https://localhost:8080/"
        },
        "id": "MGSqBURdxvw0",
        "outputId": "4765256d-58a5-4faa-dba9-744809947e0b"
      },
      "source": [
        "for trashtype in directory:\n",
        "  print(len(os.listdir(trashtype[0])))"
      ],
      "execution_count": 69,
      "outputs": [
        {
          "output_type": "stream",
          "text": [
            "345\n",
            "419\n",
            "361\n",
            "498\n",
            "419\n",
            "121\n"
          ],
          "name": "stdout"
        }
      ]
    },
    {
      "cell_type": "code",
      "metadata": {
        "colab": {
          "base_uri": "https://localhost:8080/"
        },
        "id": "qcohnHZ9AGTc",
        "outputId": "9bb4952f-97e2-40d3-cd40-fd6a209ddab4"
      },
      "source": [
        "for trashtype in directory:\n",
        "  print(len(os.listdir(trashtype[1])))"
      ],
      "execution_count": 71,
      "outputs": [
        {
          "output_type": "stream",
          "text": [
            "58\n",
            "82\n",
            "49\n",
            "96\n",
            "63\n",
            "16\n"
          ],
          "name": "stdout"
        }
      ]
    },
    {
      "cell_type": "code",
      "metadata": {
        "colab": {
          "base_uri": "https://localhost:8080/"
        },
        "id": "CI0JxrS68m9J",
        "outputId": "c7c46717-e315-4ef5-e458-025015afceed"
      },
      "source": [
        "print(len(os.listdir(source_paper)))"
      ],
      "execution_count": 66,
      "outputs": [
        {
          "output_type": "stream",
          "text": [
            "498\n"
          ],
          "name": "stdout"
        }
      ]
    }
  ]
}