{
  "nbformat": 4,
  "nbformat_minor": 0,
  "metadata": {
    "colab": {
      "name": "pm_first_cnn.ipynb",
      "provenance": [],
      "collapsed_sections": []
    },
    "kernelspec": {
      "name": "python3",
      "display_name": "Python 3"
    },
    "language_info": {
      "name": "python"
    },
    "accelerator": "GPU"
  },
  "cells": [
    {
      "cell_type": "code",
      "metadata": {
        "id": "6eCH3DqN3B0a"
      },
      "source": [
        "import pandas as pd\n",
        "import numpy as np\n",
        "\n",
        "import matplotlib.pyplot as plt\n",
        "\n",
        "from sklearn.pipeline import Pipeline\n",
        "from sklearn.compose import ColumnTransformer\n",
        "from sklearn.model_selection import train_test_split\n",
        "\n",
        "from tensorflow.keras import models\n",
        "from tensorflow.keras import layers\n",
        "from tensorflow.keras import Sequential\n",
        "from tensorflow.keras.callbacks import EarlyStopping\n",
        "from tensorflow.keras.preprocessing import image_dataset_from_directory\n",
        "\n",
        "import tensorflow as tf\n",
        "import tensorflow_datasets as tfds"
      ],
      "execution_count": 28,
      "outputs": []
    },
    {
      "cell_type": "markdown",
      "metadata": {
        "id": "ZH3ayjK3AJAg"
      },
      "source": [
        "Defining image shape"
      ]
    },
    {
      "cell_type": "code",
      "metadata": {
        "id": "8MF3DhFf63vy"
      },
      "source": [
        "img_width = 512\n",
        "img_height = 384\n",
        "colors = 3"
      ],
      "execution_count": 2,
      "outputs": []
    },
    {
      "cell_type": "markdown",
      "metadata": {
        "id": "e99kF3u8ADyB"
      },
      "source": [
        "Connecting Google Collab with Google Drive"
      ]
    },
    {
      "cell_type": "code",
      "metadata": {
        "colab": {
          "base_uri": "https://localhost:8080/"
        },
        "id": "YK2qRyinALF6",
        "outputId": "0e808542-0362-4ad5-d773-0478dfadd8e5"
      },
      "source": [
        "from google.colab import drive\n",
        "drive.mount('/content/gdrive')"
      ],
      "execution_count": 5,
      "outputs": [
        {
          "output_type": "stream",
          "text": [
            "Mounted at /content/gdrive\n"
          ],
          "name": "stdout"
        }
      ]
    },
    {
      "cell_type": "markdown",
      "metadata": {
        "id": "aIJb1cywALlR"
      },
      "source": [
        "Creating datasets from trashnet_dataset_resized"
      ]
    },
    {
      "cell_type": "code",
      "metadata": {
        "colab": {
          "base_uri": "https://localhost:8080/"
        },
        "id": "s5icpKoR7kVJ",
        "outputId": "bbbd0f90-f3e9-40c9-b5d7-ba14b7db1805"
      },
      "source": [
        "ds_train = image_dataset_from_directory(\n",
        "    '/content/gdrive/My Drive/trashnet_dataset_resized',\n",
        "    labels='inferred',\n",
        "    label_mode = 'categorical',\n",
        "    batch_size=16,\n",
        "    image_size=(img_height, img_width),\n",
        "    shuffle=True,\n",
        "    seed=123,\n",
        "    validation_split=0.3,\n",
        "    subset='training',\n",
        ")"
      ],
      "execution_count": 6,
      "outputs": [
        {
          "output_type": "stream",
          "text": [
            "Found 2537 files belonging to 6 classes.\n",
            "Using 1776 files for training.\n"
          ],
          "name": "stdout"
        }
      ]
    },
    {
      "cell_type": "code",
      "metadata": {
        "id": "FNI1PKSrOxSu"
      },
      "source": [
        "for image, label in ds_train.take(2):\n",
        "  print(image)\n",
        "  print(label)"
      ],
      "execution_count": null,
      "outputs": []
    },
    {
      "cell_type": "code",
      "metadata": {
        "colab": {
          "base_uri": "https://localhost:8080/"
        },
        "id": "UtpPd4Q-Bd7X",
        "outputId": "9163008c-8da6-48bc-c4bc-6ad85af239f6"
      },
      "source": [
        "ds_test = image_dataset_from_directory(\n",
        "    '/content/gdrive/My Drive/trashnet_dataset_resized',\n",
        "    labels='inferred',\n",
        "    label_mode = 'categorical',\n",
        "    batch_size=16,\n",
        "    image_size=(img_height, img_width),\n",
        "    shuffle=True,\n",
        "    seed=123,\n",
        "    validation_split=0.3,\n",
        "    subset='validation',\n",
        ")"
      ],
      "execution_count": 7,
      "outputs": [
        {
          "output_type": "stream",
          "text": [
            "Found 2537 files belonging to 6 classes.\n",
            "Using 761 files for validation.\n"
          ],
          "name": "stdout"
        }
      ]
    },
    {
      "cell_type": "markdown",
      "metadata": {
        "id": "Z3gekSAqcb3s"
      },
      "source": [
        "Preprocessing datasets"
      ]
    },
    {
      "cell_type": "code",
      "metadata": {
        "id": "IlUGUpUiQFH0"
      },
      "source": [
        "def preprocess(image,label):\n",
        "  image = image / 255.\n",
        "  return image, label"
      ],
      "execution_count": 17,
      "outputs": []
    },
    {
      "cell_type": "code",
      "metadata": {
        "id": "uznC67AGQTVx"
      },
      "source": [
        "ds_train = ds_train.map(preprocess)"
      ],
      "execution_count": 18,
      "outputs": []
    },
    {
      "cell_type": "code",
      "metadata": {
        "id": "uIRYXm2HRXLu"
      },
      "source": [
        "ds_test = ds_test.map(preprocess)"
      ],
      "execution_count": 21,
      "outputs": []
    },
    {
      "cell_type": "markdown",
      "metadata": {
        "id": "4SvgVHT7CCdm"
      },
      "source": [
        "Defining CNN model"
      ]
    },
    {
      "cell_type": "code",
      "metadata": {
        "id": "-ewspQ-PBwz_"
      },
      "source": [
        "def initialize_model():\n",
        "  \n",
        "  model = Sequential()\n",
        "\n",
        "  model.add(layers.Conv2D(16, (3,3), input_shape=(img_height, img_width, colors), activation='relu'))\n",
        "  model.add(layers.MaxPool2D(pool_size=(2,2)))\n",
        "\n",
        "  model.add(layers.Conv2D(16, (4,4), activation='relu'))\n",
        "  model.add(layers.MaxPool2D(pool_size=(2,2)))\n",
        "\n",
        "  model.add(layers.Flatten())\n",
        "\n",
        "  model.add(layers.Dense(6, activation='softmax'))\n",
        "\n",
        "  model.compile(loss='categorical_crossentropy', optimizer='adam', metrics=['accuracy'])\n",
        "\n",
        "  return model"
      ],
      "execution_count": 22,
      "outputs": []
    },
    {
      "cell_type": "markdown",
      "metadata": {
        "id": "u9iQk6ZmDtI5"
      },
      "source": [
        "Initializing and fitting model"
      ]
    },
    {
      "cell_type": "code",
      "metadata": {
        "id": "Fw6NeyPrC9jk"
      },
      "source": [
        "model = initialize_model()"
      ],
      "execution_count": 23,
      "outputs": []
    },
    {
      "cell_type": "code",
      "metadata": {
        "id": "8kLYguYMGE4k"
      },
      "source": [
        "es = EarlyStopping(patience=15, restore_best_weights=True)"
      ],
      "execution_count": 24,
      "outputs": []
    },
    {
      "cell_type": "code",
      "metadata": {
        "colab": {
          "base_uri": "https://localhost:8080/"
        },
        "id": "e4ij7kdqF-V2",
        "outputId": "f250c0eb-afd0-4b7a-c6fd-a1d9e0e169d5"
      },
      "source": [
        "model.fit(ds_train, validation_data = ds_test, epochs=1000, callbacks=[es])"
      ],
      "execution_count": 25,
      "outputs": [
        {
          "output_type": "stream",
          "text": [
            "Epoch 1/1000\n",
            "111/111 [==============================] - 10s 84ms/step - loss: 2.4495 - accuracy: 0.2421 - val_loss: 1.7075 - val_accuracy: 0.2589\n",
            "Epoch 2/1000\n",
            "111/111 [==============================] - 9s 82ms/step - loss: 1.6482 - accuracy: 0.3255 - val_loss: 1.6762 - val_accuracy: 0.2917\n",
            "Epoch 3/1000\n",
            "111/111 [==============================] - 10s 83ms/step - loss: 1.4530 - accuracy: 0.4454 - val_loss: 1.6068 - val_accuracy: 0.3311\n",
            "Epoch 4/1000\n",
            "111/111 [==============================] - 9s 83ms/step - loss: 1.0264 - accuracy: 0.6340 - val_loss: 1.7259 - val_accuracy: 0.3272\n",
            "Epoch 5/1000\n",
            "111/111 [==============================] - 9s 83ms/step - loss: 0.6600 - accuracy: 0.7810 - val_loss: 1.8547 - val_accuracy: 0.3311\n",
            "Epoch 6/1000\n",
            "111/111 [==============================] - 9s 83ms/step - loss: 0.4626 - accuracy: 0.8497 - val_loss: 2.4396 - val_accuracy: 0.3522\n",
            "Epoch 7/1000\n",
            "111/111 [==============================] - 9s 82ms/step - loss: 0.2651 - accuracy: 0.9217 - val_loss: 2.8245 - val_accuracy: 0.3627\n",
            "Epoch 8/1000\n",
            "111/111 [==============================] - 10s 83ms/step - loss: 0.2755 - accuracy: 0.9291 - val_loss: 3.3499 - val_accuracy: 0.3364\n",
            "Epoch 9/1000\n",
            "111/111 [==============================] - 9s 83ms/step - loss: 0.1875 - accuracy: 0.9533 - val_loss: 4.0991 - val_accuracy: 0.3561\n",
            "Epoch 10/1000\n",
            "111/111 [==============================] - 10s 84ms/step - loss: 0.1427 - accuracy: 0.9679 - val_loss: 3.4307 - val_accuracy: 0.3548\n",
            "Epoch 11/1000\n",
            "111/111 [==============================] - 10s 84ms/step - loss: 0.1173 - accuracy: 0.9747 - val_loss: 4.2862 - val_accuracy: 0.3495\n",
            "Epoch 12/1000\n",
            "111/111 [==============================] - 10s 83ms/step - loss: 0.1164 - accuracy: 0.9741 - val_loss: 4.9126 - val_accuracy: 0.3272\n",
            "Epoch 13/1000\n",
            "111/111 [==============================] - 10s 83ms/step - loss: 0.0868 - accuracy: 0.9825 - val_loss: 4.5313 - val_accuracy: 0.3509\n",
            "Epoch 14/1000\n",
            "111/111 [==============================] - 10s 83ms/step - loss: 0.1052 - accuracy: 0.9842 - val_loss: 6.1574 - val_accuracy: 0.3640\n",
            "Epoch 15/1000\n",
            "111/111 [==============================] - 9s 83ms/step - loss: 0.0872 - accuracy: 0.9854 - val_loss: 4.2701 - val_accuracy: 0.3482\n",
            "Epoch 16/1000\n",
            "111/111 [==============================] - 10s 84ms/step - loss: 0.0673 - accuracy: 0.9882 - val_loss: 6.1214 - val_accuracy: 0.3719\n",
            "Epoch 17/1000\n",
            "111/111 [==============================] - 10s 83ms/step - loss: 0.0586 - accuracy: 0.9916 - val_loss: 5.3586 - val_accuracy: 0.3601\n",
            "Epoch 18/1000\n",
            "111/111 [==============================] - 9s 82ms/step - loss: 0.0537 - accuracy: 0.9916 - val_loss: 5.4187 - val_accuracy: 0.3824\n"
          ],
          "name": "stdout"
        },
        {
          "output_type": "execute_result",
          "data": {
            "text/plain": [
              "<tensorflow.python.keras.callbacks.History at 0x7f9428005f10>"
            ]
          },
          "metadata": {
            "tags": []
          },
          "execution_count": 25
        }
      ]
    },
    {
      "cell_type": "markdown",
      "metadata": {
        "id": "GhGEm5pucjK2"
      },
      "source": [
        "Evaluating model"
      ]
    },
    {
      "cell_type": "code",
      "metadata": {
        "id": "BF-np95YKJyr"
      },
      "source": [
        "# model.evaluate(ds_test) utiliser le \"futur\" ds_test"
      ],
      "execution_count": 27,
      "outputs": []
    }
  ]
}