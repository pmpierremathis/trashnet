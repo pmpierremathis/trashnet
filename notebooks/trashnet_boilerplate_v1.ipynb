{
  "nbformat": 4,
  "nbformat_minor": 0,
  "metadata": {
    "colab": {
      "name": "trashnet_boilerplate_v1.ipynb",
      "provenance": [],
      "collapsed_sections": []
    },
    "kernelspec": {
      "name": "python3",
      "display_name": "Python 3"
    },
    "language_info": {
      "name": "python"
    },
    "accelerator": "GPU"
  },
  "cells": [
    {
      "cell_type": "code",
      "metadata": {
        "id": "6eCH3DqN3B0a"
      },
      "source": [
        "import pandas as pd\n",
        "import numpy as np\n",
        "import matplotlib.pyplot as plt\n",
        "\n",
        "from sklearn.pipeline import Pipeline\n",
        "from sklearn.compose import ColumnTransformer\n",
        "from sklearn.model_selection import train_test_split\n",
        "\n",
        "from tensorflow.keras import models\n",
        "from tensorflow.keras import layers\n",
        "from tensorflow.keras import Sequential\n",
        "from tensorflow.keras.callbacks import EarlyStopping\n",
        "from tensorflow.keras.preprocessing import image_dataset_from_directory\n",
        "\n",
        "import tensorflow as tf\n",
        "import tensorflow_datasets as tfds"
      ],
      "execution_count": 2,
      "outputs": []
    },
    {
      "cell_type": "markdown",
      "metadata": {
        "id": "ZH3ayjK3AJAg"
      },
      "source": [
        "Defining image shape"
      ]
    },
    {
      "cell_type": "code",
      "metadata": {
        "id": "8MF3DhFf63vy"
      },
      "source": [
        "img_width = 512\n",
        "img_height = 384\n",
        "colors = 3"
      ],
      "execution_count": 3,
      "outputs": []
    },
    {
      "cell_type": "markdown",
      "metadata": {
        "id": "e99kF3u8ADyB"
      },
      "source": [
        "Connecting Google Collab with Google Drive"
      ]
    },
    {
      "cell_type": "code",
      "metadata": {
        "colab": {
          "base_uri": "https://localhost:8080/"
        },
        "id": "YK2qRyinALF6",
        "outputId": "ea1953b3-7dc2-4d6b-90f3-49423f286696"
      },
      "source": [
        "from google.colab import drive\n",
        "drive.mount('/content/gdrive')"
      ],
      "execution_count": 4,
      "outputs": [
        {
          "output_type": "stream",
          "text": [
            "Mounted at /content/gdrive\n"
          ],
          "name": "stdout"
        }
      ]
    },
    {
      "cell_type": "markdown",
      "metadata": {
        "id": "aIJb1cywALlR"
      },
      "source": [
        "Creating datasets"
      ]
    },
    {
      "cell_type": "code",
      "metadata": {
        "colab": {
          "base_uri": "https://localhost:8080/"
        },
        "id": "s5icpKoR7kVJ",
        "outputId": "8f09ee9c-a4d2-47ef-92ba-4403b5307899"
      },
      "source": [
        "ds_train = image_dataset_from_directory(\n",
        "    '/content/gdrive/My Drive/trashnet/dataset_project/dataset_train',\n",
        "    labels='inferred',\n",
        "    label_mode = 'categorical',\n",
        "    batch_size=16,\n",
        "    image_size=(img_height, img_width),\n",
        "    shuffle=True,\n",
        "    seed=123,\n",
        "    validation_split=0.3,\n",
        "    subset='training',\n",
        ")"
      ],
      "execution_count": 28,
      "outputs": [
        {
          "output_type": "stream",
          "text": [
            "Found 2163 files belonging to 6 classes.\n",
            "Using 1515 files for training.\n"
          ],
          "name": "stdout"
        }
      ]
    },
    {
      "cell_type": "code",
      "metadata": {
        "id": "FNI1PKSrOxSu"
      },
      "source": [
        "for image, label in ds_train.take(2):\n",
        "  print(image)\n",
        "  print(label)"
      ],
      "execution_count": null,
      "outputs": []
    },
    {
      "cell_type": "code",
      "metadata": {
        "colab": {
          "base_uri": "https://localhost:8080/"
        },
        "id": "UtpPd4Q-Bd7X",
        "outputId": "1d2f6652-5e94-47a2-818b-b16d15d8e098"
      },
      "source": [
        "ds_val = image_dataset_from_directory(\n",
        "    '/content/gdrive/My Drive/trashnet/dataset_project/dataset_train',\n",
        "    labels='inferred',\n",
        "    label_mode = 'categorical',\n",
        "    batch_size=16,\n",
        "    image_size=(img_height, img_width),\n",
        "    shuffle=True,\n",
        "    seed=123,\n",
        "    validation_split=0.3,\n",
        "    subset='validation',\n",
        ")"
      ],
      "execution_count": 29,
      "outputs": [
        {
          "output_type": "stream",
          "text": [
            "Found 2163 files belonging to 6 classes.\n",
            "Using 648 files for validation.\n"
          ],
          "name": "stdout"
        }
      ]
    },
    {
      "cell_type": "code",
      "metadata": {
        "colab": {
          "base_uri": "https://localhost:8080/"
        },
        "id": "QVpTDIkmFsG7",
        "outputId": "79ab5798-d261-4567-f58a-946b8d5bcd93"
      },
      "source": [
        "ds_test = image_dataset_from_directory(\n",
        "    '/content/gdrive/My Drive/trashnet/dataset_project/dataset_test',\n",
        "    labels='inferred',\n",
        "    label_mode = 'categorical',\n",
        "    batch_size=16,\n",
        "    image_size=(img_height, img_width),\n",
        "    shuffle=True,\n",
        "    seed=123,\n",
        ")"
      ],
      "execution_count": 30,
      "outputs": [
        {
          "output_type": "stream",
          "text": [
            "Found 364 files belonging to 6 classes.\n"
          ],
          "name": "stdout"
        }
      ]
    },
    {
      "cell_type": "markdown",
      "metadata": {
        "id": "Z3gekSAqcb3s"
      },
      "source": [
        "Preprocessing datasets"
      ]
    },
    {
      "cell_type": "code",
      "metadata": {
        "id": "IlUGUpUiQFH0"
      },
      "source": [
        "def preprocess(image,label):\n",
        "  image = image / 255.\n",
        "  return image, label"
      ],
      "execution_count": 31,
      "outputs": []
    },
    {
      "cell_type": "code",
      "metadata": {
        "id": "uznC67AGQTVx"
      },
      "source": [
        "ds_train = ds_train.map(preprocess)"
      ],
      "execution_count": 32,
      "outputs": []
    },
    {
      "cell_type": "code",
      "metadata": {
        "id": "SZWqG94zF40Q"
      },
      "source": [
        "ds_val = ds_val.map(preprocess)"
      ],
      "execution_count": 33,
      "outputs": []
    },
    {
      "cell_type": "code",
      "metadata": {
        "id": "uIRYXm2HRXLu"
      },
      "source": [
        "ds_test = ds_test.map(preprocess)"
      ],
      "execution_count": 34,
      "outputs": []
    },
    {
      "cell_type": "markdown",
      "metadata": {
        "id": "4SvgVHT7CCdm"
      },
      "source": [
        "Defining CNN model"
      ]
    },
    {
      "cell_type": "code",
      "metadata": {
        "id": "-ewspQ-PBwz_"
      },
      "source": [
        "def initialize_model():\n",
        "  \n",
        "  model = Sequential()\n",
        "\n",
        "  model.add(layers.Conv2D(16, (4,4), input_shape=(img_height, img_width, colors), activation='relu'))\n",
        "  model.add(layers.Conv2D(32, (3,3), activation='relu'))\n",
        "\n",
        "  model.add(layers.Flatten())\n",
        "\n",
        "  model.add(layers.Dense(64, activation='relu'))\n",
        "  model.add(layers.Dense(32, activation='relu'))\n",
        "  model.add(layers.Dense(6, activation='softmax'))\n",
        "\n",
        "  model.compile(loss='categorical_crossentropy', optimizer='adam', metrics=['accuracy'])\n",
        "\n",
        "  return model"
      ],
      "execution_count": 35,
      "outputs": []
    },
    {
      "cell_type": "markdown",
      "metadata": {
        "id": "u9iQk6ZmDtI5"
      },
      "source": [
        "Initializing and fitting model"
      ]
    },
    {
      "cell_type": "code",
      "metadata": {
        "id": "Fw6NeyPrC9jk"
      },
      "source": [
        "model = initialize_model()"
      ],
      "execution_count": 36,
      "outputs": []
    },
    {
      "cell_type": "code",
      "metadata": {
        "id": "8kLYguYMGE4k"
      },
      "source": [
        "es = EarlyStopping(patience=15, restore_best_weights=True)"
      ],
      "execution_count": 37,
      "outputs": []
    },
    {
      "cell_type": "code",
      "metadata": {
        "colab": {
          "base_uri": "https://localhost:8080/"
        },
        "id": "e4ij7kdqF-V2",
        "outputId": "1fc14327-ae4f-4431-c98b-388b7420dd61"
      },
      "source": [
        "model.fit(ds_train, validation_data = ds_val, epochs=1000, callbacks=[es])"
      ],
      "execution_count": 38,
      "outputs": [
        {
          "output_type": "stream",
          "text": [
            "Epoch 1/1000\n",
            "95/95 [==============================] - 22s 221ms/step - loss: 11.0174 - accuracy: 0.3129 - val_loss: 1.6588 - val_accuracy: 0.3179\n",
            "Epoch 2/1000\n",
            "95/95 [==============================] - 20s 210ms/step - loss: 1.1778 - accuracy: 0.5452 - val_loss: 1.6260 - val_accuracy: 0.4244\n",
            "Epoch 3/1000\n",
            "95/95 [==============================] - 20s 210ms/step - loss: 0.7020 - accuracy: 0.7888 - val_loss: 2.2388 - val_accuracy: 0.4151\n",
            "Epoch 4/1000\n",
            "95/95 [==============================] - 20s 208ms/step - loss: 0.2848 - accuracy: 0.9426 - val_loss: 2.1727 - val_accuracy: 0.4228\n",
            "Epoch 5/1000\n",
            "95/95 [==============================] - 20s 208ms/step - loss: 0.2280 - accuracy: 0.9538 - val_loss: 2.5509 - val_accuracy: 0.4444\n",
            "Epoch 6/1000\n",
            "95/95 [==============================] - 20s 210ms/step - loss: 0.1905 - accuracy: 0.9670 - val_loss: 3.4829 - val_accuracy: 0.3827\n",
            "Epoch 7/1000\n",
            "95/95 [==============================] - 20s 211ms/step - loss: 0.1594 - accuracy: 0.9657 - val_loss: 3.6937 - val_accuracy: 0.4012\n",
            "Epoch 8/1000\n",
            "95/95 [==============================] - 20s 210ms/step - loss: 0.2989 - accuracy: 0.9512 - val_loss: 4.1425 - val_accuracy: 0.3210\n",
            "Epoch 9/1000\n",
            "95/95 [==============================] - 20s 210ms/step - loss: 0.2878 - accuracy: 0.9650 - val_loss: 3.8230 - val_accuracy: 0.3349\n",
            "Epoch 10/1000\n",
            "95/95 [==============================] - 20s 209ms/step - loss: 0.4311 - accuracy: 0.9096 - val_loss: 3.4268 - val_accuracy: 0.3410\n",
            "Epoch 11/1000\n",
            "95/95 [==============================] - 20s 210ms/step - loss: 0.1079 - accuracy: 0.9782 - val_loss: 3.6056 - val_accuracy: 0.3673\n",
            "Epoch 12/1000\n",
            "95/95 [==============================] - 20s 210ms/step - loss: 0.1266 - accuracy: 0.9696 - val_loss: 3.5947 - val_accuracy: 0.3364\n",
            "Epoch 13/1000\n",
            "95/95 [==============================] - 20s 209ms/step - loss: 0.1734 - accuracy: 0.9657 - val_loss: 4.1284 - val_accuracy: 0.3117\n",
            "Epoch 14/1000\n",
            "95/95 [==============================] - 20s 210ms/step - loss: 0.1105 - accuracy: 0.9769 - val_loss: 6.1212 - val_accuracy: 0.3349\n",
            "Epoch 15/1000\n",
            "95/95 [==============================] - 20s 209ms/step - loss: 0.0719 - accuracy: 0.9855 - val_loss: 6.6081 - val_accuracy: 0.3102\n",
            "Epoch 16/1000\n",
            "95/95 [==============================] - 20s 209ms/step - loss: 0.0272 - accuracy: 0.9947 - val_loss: 6.4160 - val_accuracy: 0.3117\n",
            "Epoch 17/1000\n",
            "95/95 [==============================] - 20s 210ms/step - loss: 0.0374 - accuracy: 0.9947 - val_loss: 6.8566 - val_accuracy: 0.3287\n"
          ],
          "name": "stdout"
        },
        {
          "output_type": "execute_result",
          "data": {
            "text/plain": [
              "<tensorflow.python.keras.callbacks.History at 0x7f88239e2bd0>"
            ]
          },
          "metadata": {
            "tags": []
          },
          "execution_count": 38
        }
      ]
    },
    {
      "cell_type": "markdown",
      "metadata": {
        "id": "GhGEm5pucjK2"
      },
      "source": [
        "Evaluating model"
      ]
    },
    {
      "cell_type": "code",
      "metadata": {
        "id": "BF-np95YKJyr",
        "colab": {
          "base_uri": "https://localhost:8080/"
        },
        "outputId": "e92e5cbb-6bc8-4f4f-902a-c28a4a0a57b7"
      },
      "source": [
        "model.evaluate(ds_test)"
      ],
      "execution_count": 39,
      "outputs": [
        {
          "output_type": "stream",
          "text": [
            "23/23 [==============================] - 2s 65ms/step - loss: 1.4795 - accuracy: 0.4643\n"
          ],
          "name": "stdout"
        },
        {
          "output_type": "execute_result",
          "data": {
            "text/plain": [
              "[1.479503870010376, 0.4642857015132904]"
            ]
          },
          "metadata": {
            "tags": []
          },
          "execution_count": 39
        }
      ]
    }
  ]
}